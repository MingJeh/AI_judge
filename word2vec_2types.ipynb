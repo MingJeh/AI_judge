{
 "cells": [
  {
   "cell_type": "markdown",
   "id": "b6fc0583",
   "metadata": {},
   "source": [
    "### gensim 載入詞向量的兩種模式"
   ]
  },
  {
   "cell_type": "code",
   "execution_count": 1,
   "id": "cc332d1a",
   "metadata": {},
   "outputs": [
    {
     "name": "stdout",
     "output_type": "stream",
     "text": [
      "詞向量模型不存在，開始建構詞向量模型...\n"
     ]
    },
    {
     "ename": "NameError",
     "evalue": "name 'vecs_path' is not defined",
     "output_type": "error",
     "traceback": [
      "\u001b[1;31m---------------------------------------------------------------------------\u001b[0m",
      "\u001b[1;31mNameError\u001b[0m                                 Traceback (most recent call last)",
      "Cell \u001b[1;32mIn [1], line 10\u001b[0m\n\u001b[0;32m      7\u001b[0m \u001b[38;5;28;01mif\u001b[39;00m \u001b[38;5;129;01mnot\u001b[39;00m os\u001b[38;5;241m.\u001b[39mpath\u001b[38;5;241m.\u001b[39mexists(pkl_path): \u001b[38;5;66;03m# 如果 pickle 模型不存在，則建構\u001b[39;00m\n\u001b[0;32m      9\u001b[0m     \u001b[38;5;28mprint\u001b[39m(\u001b[38;5;124m'\u001b[39m\u001b[38;5;124m詞向量模型不存在，開始建構詞向量模型...\u001b[39m\u001b[38;5;124m'\u001b[39m)\n\u001b[1;32m---> 10\u001b[0m     Word2Vec \u001b[38;5;241m=\u001b[39m KeyedVectors\u001b[38;5;241m.\u001b[39mload_word2vec_format(\u001b[43mvecs_path\u001b[49m, binary\u001b[38;5;241m=\u001b[39m\u001b[38;5;28;01mFalse\u001b[39;00m) \u001b[38;5;66;03m# 載入詞向量模型\u001b[39;00m\n\u001b[0;32m     11\u001b[0m     f \u001b[38;5;241m=\u001b[39m file(pkl_path, \u001b[38;5;124m'\u001b[39m\u001b[38;5;124mwb\u001b[39m\u001b[38;5;124m'\u001b[39m)\n\u001b[0;32m     12\u001b[0m     pickle\u001b[38;5;241m.\u001b[39mdump(Word2Vec, f, \u001b[38;5;28;01mTrue\u001b[39;00m)\n",
      "\u001b[1;31mNameError\u001b[0m: name 'vecs_path' is not defined"
     ]
    }
   ],
   "source": [
    "import os\n",
    "from gensim.models import KeyedVectors\n",
    "# 保存詞向量到 pkl 文件中\n",
    "\n",
    "pkl_path = './pkl'\n",
    "\n",
    "if not os.path.exists(pkl_path): # 如果 pickle 模型不存在，則建構\n",
    "\n",
    "    print('詞向量模型不存在，開始建構詞向量模型...')\n",
    "    Word2Vec = KeyedVectors.load_word2vec_format(vecs_path, binary=False) # 載入詞向量模型\n",
    "    f = file(pkl_path, 'wb')\n",
    "    pickle.dump(Word2Vec, f, True)\n",
    "    f.close()\n",
    "    print('詞向量模型建構完成...')\n",
    "\n",
    "f= file(pkl_path, 'rb')  # open pkl 文件\n",
    "word2vec=pickle.load(f)  # load pkl 文件"
   ]
  },
  {
   "cell_type": "code",
   "execution_count": null,
   "id": "e7265de7",
   "metadata": {},
   "outputs": [],
   "source": [
    "from gensim.models import Word2Vec\n",
    "from gensim.models.word2vec import LineSentence\n",
    "# 使用 gensim model 訓練詞向量\n",
    " \n",
    "try:\n",
    "  import cPickle as pickle\n",
    "except ImportError:\n",
    "  import pickle\n",
    "\n",
    "sentences = LineSentence(path)  # path 為要訓練的 txt 路徑\n",
    "# 對 sentences 表示的語料庫進行訓練，訓練 200 維的詞向量，窗口大小 = 5，最小詞頻 = 5\n",
    "model = Word2Vec(sentences, size=200, window=5, min_count=5)\n",
    "model.save(model_path)  # model_path 為模型路徑。保存模型，通常以 pkl 形式保存，以便下次直接載入即可\n",
    "\n",
    "# 載入模型\n",
    "model = Word2Vec.load(model_path)"
   ]
  },
  {
   "cell_type": "code",
   "execution_count": null,
   "id": "863b725a",
   "metadata": {},
   "outputs": [],
   "source": [
    "# 完整的訓練，通常載入的方式\n",
    "# 透過 pkl 化的詞向量模型進行讀取\n",
    "# pkl 的目的是為了保存程序中變量的狀態，以便下次直接載入，不需重新訓練模型\n",
    "\n",
    "\n",
    "if not os.path.exists(model_path):\n",
    "    sentences = LineSentence(path)\n",
    "    model = Word2Vec(sentences, size=200, window=5, min_count=5)\n",
    "    model.save(model_path)\n",
    "model = Word2Vec.load(model_path)"
   ]
  }
 ],
 "metadata": {
  "kernelspec": {
   "display_name": "Python 3 (ipykernel)",
   "language": "python",
   "name": "python3"
  },
  "language_info": {
   "codemirror_mode": {
    "name": "ipython",
    "version": 3
   },
   "file_extension": ".py",
   "mimetype": "text/x-python",
   "name": "python",
   "nbconvert_exporter": "python",
   "pygments_lexer": "ipython3",
   "version": "3.9.15"
  }
 },
 "nbformat": 4,
 "nbformat_minor": 5
}
