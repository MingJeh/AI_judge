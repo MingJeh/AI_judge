{
 "cells": [
  {
   "cell_type": "code",
   "execution_count": 16,
   "id": "9ce89609",
   "metadata": {},
   "outputs": [
    {
     "name": "stderr",
     "output_type": "stream",
     "text": [
      "IOPub data rate exceeded.\n",
      "The notebook server will temporarily stop sending output\n",
      "to the client in order to avoid crashing it.\n",
      "To change this limit, set the config variable\n",
      "`--NotebookApp.iopub_data_rate_limit`.\n",
      "\n",
      "Current values:\n",
      "NotebookApp.iopub_data_rate_limit=1000000.0 (bytes/sec)\n",
      "NotebookApp.rate_limit_window=3.0 (secs)\n",
      "\n"
     ]
    }
   ],
   "source": [
    "# Python program to generate word vectors using Word2Vec\n",
    " \n",
    "# importing all necessary modules\n",
    "from nltk.tokenize import sent_tokenize, word_tokenize\n",
    "import warnings\n",
    " \n",
    "warnings.filterwarnings(action = 'ignore')\n",
    " \n",
    "\n",
    "import pandas as pd\n",
    "import numpy as np\n",
    "import gensim\n",
    "from gensim.models import Word2Vec\n",
    " \n",
    "#  Reads ‘alice.txt’ file\n",
    "\n",
    "judge_content = []\n",
    "\n",
    "sample = pd.read_csv(\"./臺灣桃園地方法院_10年rawdata.csv\")\n",
    "print(sample)\n",
    "for content in sample['judge_content']:\n",
    "    judge_content.append(content)\n",
    "    #print(judge_content)\n",
    " \n",
    "# Replaces escape character with space\n",
    "#f = s.replace(\"\\n\", \" \")\n",
    " \n",
    "# data = []\n",
    " \n",
    "# # iterate through each sentence in the file\n",
    "# for i in sent_tokenize(f):\n",
    "#     temp = []\n",
    "     \n",
    "#     # tokenize the sentence into words\n",
    "#     for j in word_tokenize(i):\n",
    "#         temp.append(j.lower())\n",
    " \n",
    "#     data.append(temp)\n",
    " \n",
    "# # Create CBOW model\n",
    "# model1 = gensim.models.Word2Vec(data, min_count = 1,\n",
    "#                               vector_size = 100, window = 5)\n",
    " \n",
    "# # Print results\n",
    "# print(\"Cosine similarity between 'alice' \" +\n",
    "#                \"and 'wonderland' - CBOW : \",\n",
    "#     model1.wv.similarity('alice', 'wonderland'))\n",
    "     \n",
    "# print(\"Cosine similarity between 'alice' \" +\n",
    "#                  \"and 'machines' - CBOW : \",\n",
    "#       model1.wv.similarity('alice', 'machines'))\n",
    " \n",
    "# # Create Skip Gram model\n",
    "# model2 = gensim.models.Word2Vec(data, min_count = 1, vector_size = 100,\n",
    "#                                              window = 5, sg = 1)\n",
    " \n",
    "# # Print results\n",
    "# print(\"Cosine similarity between 'alice' \" +\n",
    "#           \"and 'wonderland' - Skip Gram : \",\n",
    "#     model2.wv.similarity('alice', 'wonderland'))\n",
    "     \n",
    "# print(\"Cosine similarity between 'alice' \" +\n",
    "#             \"and 'machines' - Skip Gram : \",\n",
    "#       model2.wv.similarity('alice', 'machines'))"
   ]
  },
  {
   "cell_type": "code",
   "execution_count": null,
   "id": "5ac8d03f",
   "metadata": {},
   "outputs": [],
   "source": []
  }
 ],
 "metadata": {
  "kernelspec": {
   "display_name": "Python 3 (ipykernel)",
   "language": "python",
   "name": "python3"
  },
  "language_info": {
   "codemirror_mode": {
    "name": "ipython",
    "version": 3
   },
   "file_extension": ".py",
   "mimetype": "text/x-python",
   "name": "python",
   "nbconvert_exporter": "python",
   "pygments_lexer": "ipython3",
   "version": "3.9.15"
  }
 },
 "nbformat": 4,
 "nbformat_minor": 5
}
